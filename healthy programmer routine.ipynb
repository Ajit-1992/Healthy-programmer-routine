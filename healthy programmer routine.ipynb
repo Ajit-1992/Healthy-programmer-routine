{
 "cells": [
  {
   "cell_type": "markdown",
   "metadata": {},
   "source": [
    "#  This program helps you to schedule health routine while\n",
    "\n",
    "# programming"
   ]
  },
  {
   "cell_type": "code",
   "execution_count": 1,
   "metadata": {},
   "outputs": [],
   "source": [
    "# you can change your drinking water time and exercise time and log file also generated.\n",
    "# for installing pygame and plyer you must type following commands in your command prompt or terminal\n",
    "# pip install pygame\n",
    "# pip install plyer"
   ]
  },
  {
   "cell_type": "code",
   "execution_count": 6,
   "metadata": {},
   "outputs": [],
   "source": [
    "from pygame import mixer\n",
    "from time import time\n",
    "from datetime import datetime\n",
    "from plyer import notification"
   ]
  },
  {
   "cell_type": "code",
   "execution_count": 3,
   "metadata": {},
   "outputs": [],
   "source": [
    "def musiconloop(file,stopper):\n",
    "    mixer.init()\n",
    "    mixer.music.load('Dance-Monkey-instrumental.mp3') # this helps to load your mp3 file,mention full path of your provided file\n",
    "    mixer.music.play()\n",
    "    while True:\n",
    "        a = input().lower()\n",
    "        if a == stopper:\n",
    "            mixer.music.stop()\n",
    "            break"
   ]
  },
  {
   "cell_type": "code",
   "execution_count": 4,
   "metadata": {},
   "outputs": [],
   "source": [
    "def log_f(msg):\n",
    "    with open('log.txt', 'a') as a: # create log file and append in it\n",
    "        a.write(f'{msg} {datetime.now()}\\n')"
   ]
  },
  {
   "cell_type": "code",
   "execution_count": 5,
   "metadata": {},
   "outputs": [
    {
     "name": "stdout",
     "output_type": "stream",
     "text": [
      "type stop to stop music\n",
      "stop\n",
      "type stop to stop music\n",
      "stop\n"
     ]
    },
    {
     "ename": "KeyboardInterrupt",
     "evalue": "",
     "output_type": "error",
     "traceback": [
      "\u001b[1;31m---------------------------------------------------------------------------\u001b[0m",
      "\u001b[1;31mKeyboardInterrupt\u001b[0m                         Traceback (most recent call last)",
      "\u001b[1;32m<ipython-input-5-844a9a05044d>\u001b[0m in \u001b[0;36m<module>\u001b[1;34m\u001b[0m\n\u001b[0;32m     23\u001b[0m         \u001b[0mwater_s\u001b[0m \u001b[1;33m=\u001b[0m \u001b[0mtime\u001b[0m\u001b[1;33m(\u001b[0m\u001b[1;33m)\u001b[0m\u001b[1;33m\u001b[0m\u001b[1;33m\u001b[0m\u001b[0m\n\u001b[0;32m     24\u001b[0m \u001b[1;33m\u001b[0m\u001b[0m\n\u001b[1;32m---> 25\u001b[1;33m     \u001b[1;32mif\u001b[0m \u001b[0mtime\u001b[0m\u001b[1;33m(\u001b[0m\u001b[1;33m)\u001b[0m \u001b[1;33m-\u001b[0m \u001b[0mexercise_s\u001b[0m \u001b[1;33m>\u001b[0m \u001b[0mexercise\u001b[0m\u001b[1;33m:\u001b[0m\u001b[1;33m\u001b[0m\u001b[1;33m\u001b[0m\u001b[0m\n\u001b[0m\u001b[0;32m     26\u001b[0m         \u001b[0mprint\u001b[0m\u001b[1;33m(\u001b[0m\u001b[1;34m'type stop to stop music'\u001b[0m\u001b[1;33m)\u001b[0m\u001b[1;33m\u001b[0m\u001b[1;33m\u001b[0m\u001b[0m\n\u001b[0;32m     27\u001b[0m \u001b[1;33m\u001b[0m\u001b[0m\n",
      "\u001b[1;31mKeyboardInterrupt\u001b[0m: "
     ]
    }
   ],
   "source": [
    "start = time()\n",
    "log_f('start')\n",
    "water = 60\n",
    "water_s = time()\n",
    "exercise = 80\n",
    "exercise_s = time()\n",
    "while True:\n",
    "    \n",
    "    if time() - water_s > water:\n",
    "        print('type stop to stop music')\n",
    "        \n",
    "        # below line helps to notify\n",
    "        notification.notify(         \n",
    "        title = \"Sample Notification\",\n",
    "        message = \"This is a drinking water notification\",\n",
    "        timeout = 5\n",
    "        )\n",
    "        \n",
    "        musiconloop('Dance-Monkey-instrumental.mp3','stop')\n",
    "        \n",
    "        log_f('drink water at :')\n",
    "        \n",
    "        water_s = time()\n",
    "        \n",
    "    if time() - exercise_s > exercise:\n",
    "        print('type stop to stop music')\n",
    "        \n",
    "        # below line helps to notify\n",
    "        notification.notify(\n",
    "        title = \"Sample Notification\",\n",
    "        message = \"This is exercise notification\",\n",
    "        timeout = 5\n",
    "        )\n",
    "        \n",
    "        musiconloop('Dance-Monkey-instrumental.mp3','stop')\n",
    "        \n",
    "        log_f('doing exercise at :')\n",
    "        \n",
    "        exercise_s = time()\n",
    "        \n",
    "    "
   ]
  },
  {
   "cell_type": "code",
   "execution_count": null,
   "metadata": {},
   "outputs": [],
   "source": []
  }
 ],
 "metadata": {
  "kernelspec": {
   "display_name": "Python 3",
   "language": "python",
   "name": "python3"
  },
  "language_info": {
   "codemirror_mode": {
    "name": "ipython",
    "version": 3
   },
   "file_extension": ".py",
   "mimetype": "text/x-python",
   "name": "python",
   "nbconvert_exporter": "python",
   "pygments_lexer": "ipython3",
   "version": "3.7.6"
  }
 },
 "nbformat": 4,
 "nbformat_minor": 2
}
